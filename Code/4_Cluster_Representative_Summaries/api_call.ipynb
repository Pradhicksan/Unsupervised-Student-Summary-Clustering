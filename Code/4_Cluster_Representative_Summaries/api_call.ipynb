{
 "cells": [
  {
   "cell_type": "code",
   "execution_count": 1,
   "metadata": {},
   "outputs": [],
   "source": [
    "import pandas as pd\n",
    "import sys\n",
    "import os\n",
    "sys.path.append(os.getcwd()) # to import a python file in the current folder"
   ]
  },
  {
   "cell_type": "code",
   "execution_count": 2,
   "metadata": {},
   "outputs": [],
   "source": [
    "# Load the CSV\n",
    "df = pd.read_csv(\"Final_merged_clusters.csv\")\n",
    "\n",
    "# Ensure cluster IDs are integers\n",
    "df['New_Cluster_Label'] = df['New_Cluster_Label'].astype(int)\n",
    "\n",
    "# Group by cluster label\n",
    "grouped = df.groupby('New_Cluster_Label')\n",
    "\n",
    "# Sort cluster IDs numerically\n",
    "sorted_cluster_ids = sorted(grouped.groups.keys())\n",
    "\n",
    "# Concatenate summaries in the order of cluster ID\n",
    "cluster_summaries = []\n",
    "\n",
    "for cluster_id in sorted_cluster_ids:\n",
    "    summaries = grouped.get_group(cluster_id)['Summary']\n",
    "    concatenated = ' '.join(summaries.tolist())\n",
    "    cluster_summaries.append(concatenated)\n",
    "\n",
    "# Optional: store the result in a dictionary for traceability\n",
    "cluster_summary_dict = dict(zip(sorted_cluster_ids, cluster_summaries))\n",
    "\n"
   ]
  },
  {
   "cell_type": "code",
   "execution_count": 3,
   "metadata": {},
   "outputs": [
    {
     "name": "stderr",
     "output_type": "stream",
     "text": [
      "e:\\Python_Virtual_Environments\\DS203_venv\\Lib\\site-packages\\tqdm\\auto.py:21: TqdmWarning: IProgress not found. Please update jupyter and ipywidgets. See https://ipywidgets.readthedocs.io/en/stable/user_install.html\n",
      "  from .autonotebook import tqdm as notebook_tqdm\n"
     ]
    }
   ],
   "source": [
    "from cluster_rep_summary_generation import cluster_rep_summary_generator\n",
    "import time\n",
    "\n",
    "\n",
    "start_time = time.time()\n",
    "cluster_representative_summaries = cluster_rep_summary_generator(cluster_summaries)\n",
    "end_time = time.time()\n",
    "\n",
    "representative_df = pd.DataFrame({\n",
    "    'Cluster_ID': sorted_cluster_ids,\n",
    "    'Representative_Summary': cluster_representative_summaries\n",
    "})\n",
    "\n",
    "representative_df.to_csv(\"Cluster_Representative_Summaries.csv\", index=False)  "
   ]
  },
  {
   "cell_type": "code",
   "execution_count": 4,
   "metadata": {},
   "outputs": [
    {
     "name": "stdout",
     "output_type": "stream",
     "text": [
      "Time taken for API call execution: 98.63543462753296\n",
      "the lecture began with a review of expectation algebra, standard-error calculation using a single sample, and histogram-bin-width determination, emphasizing that the number of bins depends on the desired level of detail in data-analysis.  the relationship between the sample-variance and population-variance was also clarified.  next, the class moved on to logistic-regression, a binary-classification method using a sigmoid-function to map input-features to probabilities (p(y|x)).  the logistic-unit outputs a probability score; if the probability exceeds 0.5, the observation is classified as belonging to class 1; otherwise, class 0. the goal of logistic-regression is to maximize the likelihood of correctly predicting class-labels, achieved by adjusting weights (wi) to minimize the difference between predicted probabilities (p) and actual class-labels (t).  this is equivalent to minimizing the negative log-likelihood loss-function, often done using gradient-descent.  the choice of a linear or non-linear decision-boundary was also discussed, with a caution against overfitting when choosing a highly flexible model.  model-evaluation metrics were introduced, including the confusion-matrix (true-positives, true-negatives, false-positives, false-negatives), accuracy, precision, recall, and the f1-score (the harmonic-mean of precision and recall).  the limitations of relying solely on accuracy, especially with imbalanced-datasets, were highlighted, making the f1-score a more robust metric.  the session concluded with a teaching-assistant review of assignment e1, focusing on common errors such as misinterpreting the kurtosis-function in excel and incorrect model-comparisons.  students were reminded of the importance of submitting well-documented excel-files with clear formulas and calculations.  clustering was mentioned as a technique to group similar data points, potentially improving classification performance before applying logistic regression.  outlier-detection techniques were also briefly introduced for identifying rare data points that might skew the results.  softmax-function was mentioned as a method for assigning probabilities to multiple classes in a classification problem.  the use of two different models for fitting the same dataset was discouraged due to potential discontinuities at the boundary between the models.\n",
      "\n"
     ]
    }
   ],
   "source": [
    "print(f\"Time taken for API call execution: {end_time-start_time}\")\n",
    "print(cluster_representative_summaries[11])"
   ]
  }
 ],
 "metadata": {
  "kernelspec": {
   "display_name": "DS203_venv",
   "language": "python",
   "name": "python3"
  },
  "language_info": {
   "codemirror_mode": {
    "name": "ipython",
    "version": 3
   },
   "file_extension": ".py",
   "mimetype": "text/x-python",
   "name": "python",
   "nbconvert_exporter": "python",
   "pygments_lexer": "ipython3",
   "version": "3.12.8"
  }
 },
 "nbformat": 4,
 "nbformat_minor": 2
}
