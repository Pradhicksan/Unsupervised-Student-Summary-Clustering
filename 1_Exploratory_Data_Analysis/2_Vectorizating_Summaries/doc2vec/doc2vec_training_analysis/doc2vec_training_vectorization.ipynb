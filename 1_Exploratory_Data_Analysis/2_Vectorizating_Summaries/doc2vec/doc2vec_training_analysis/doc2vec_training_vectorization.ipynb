{
 "cells": [
  {
   "cell_type": "code",
   "execution_count": 185,
   "metadata": {},
   "outputs": [],
   "source": [
    "import pandas as pd\n",
    "import ast\n",
    "from gensim.models.doc2vec import Doc2Vec, TaggedDocument"
   ]
  },
  {
   "cell_type": "code",
   "execution_count": 186,
   "metadata": {},
   "outputs": [
    {
     "name": "stderr",
     "output_type": "stream",
     "text": [
      "<>:2: SyntaxWarning: invalid escape sequence '\\A'\n",
      "<>:2: SyntaxWarning: invalid escape sequence '\\A'\n",
      "C:\\Users\\pradh\\AppData\\Local\\Temp\\ipykernel_7388\\983102300.py:2: SyntaxWarning: invalid escape sequence '\\A'\n",
      "  df = pd.read_csv(\"E:\\Academics\\Semester-6\\DS 203(Prog. for DS)\\Project\\Code\\processed_df.csv\")\n"
     ]
    },
    {
     "name": "stdout",
     "output_type": "stream",
     "text": [
      "<class 'pandas.core.frame.DataFrame'>\n",
      "RangeIndex: 667 entries, 0 to 666\n",
      "Data columns (total 4 columns):\n",
      " #   Column           Non-Null Count  Dtype \n",
      "---  ------           --------------  ----- \n",
      " 0   Session_Summary  667 non-null    object\n",
      " 1   tokens           667 non-null    object\n",
      " 2   words_count      667 non-null    int64 \n",
      " 3   sentence_count   667 non-null    int64 \n",
      "dtypes: int64(2), object(2)\n",
      "memory usage: 21.0+ KB\n"
     ]
    }
   ],
   "source": [
    "# Step 1: Load your tokenized CSV\n",
    "df = pd.read_csv(\"E:\\Academics\\Semester-6\\DS 203(Prog. for DS)\\Project\\Code\\processed_df.csv\")\n",
    "\n",
    "# ensure tokens are read as lists\n",
    "df['tokens'] = df['tokens'].apply(ast.literal_eval)\n",
    "df.info()"
   ]
  },
  {
   "cell_type": "code",
   "execution_count": 187,
   "metadata": {},
   "outputs": [],
   "source": [
    "# Step 2: Prepare TaggedDocument\n",
    "tagged_data = [TaggedDocument(words=tokens, tags=[str(i)]) for i, tokens in zip(df.index, df['tokens'])]"
   ]
  },
  {
   "cell_type": "code",
   "execution_count": 188,
   "metadata": {},
   "outputs": [],
   "source": [
    "# Step 3: Train the Doc2Vec model with optimal params\n",
    "model = Doc2Vec(\n",
    "    tagged_data,\n",
    "    vector_size=300,\n",
    "    window=5,\n",
    "    min_count=1,\n",
    "    workers=4,\n",
    "    dm=0,\n",
    "    epochs=10000\n",
    ")"
   ]
  },
  {
   "cell_type": "code",
   "execution_count": 189,
   "metadata": {},
   "outputs": [],
   "source": [
    "# Step 4: Get stored vector for each summary (only works for training data)\n",
    "vectors = []\n",
    "for i in df.index:\n",
    "    vec = model.dv[str(i)]\n",
    "    vectors.append(vec.tolist())"
   ]
  },
  {
   "cell_type": "code",
   "execution_count": 190,
   "metadata": {},
   "outputs": [],
   "source": [
    "# Step 5: Create new DataFrame\n",
    "df_vectors = pd.DataFrame({\n",
    "    'summary': df['Session_Summary'],   # if original summary column exists\n",
    "    'vector': vectors\n",
    "})"
   ]
  },
  {
   "cell_type": "code",
   "execution_count": 191,
   "metadata": {},
   "outputs": [],
   "source": [
    "# Step 6: Export to CSV\n",
    "df_vectors.to_csv(\"processed_df2.csv\", index=False)"
   ]
  },
  {
   "cell_type": "code",
   "execution_count": 192,
   "metadata": {},
   "outputs": [],
   "source": [
    "# step 7: Export the model \n",
    "# model.save(\"doc2vec_300d_w70_dm1_e10000.model\")"
   ]
  },
  {
   "cell_type": "code",
   "execution_count": null,
   "metadata": {},
   "outputs": [],
   "source": []
  }
 ],
 "metadata": {
  "kernelspec": {
   "display_name": "DS203_venv",
   "language": "python",
   "name": "python3"
  },
  "language_info": {
   "codemirror_mode": {
    "name": "ipython",
    "version": 3
   },
   "file_extension": ".py",
   "mimetype": "text/x-python",
   "name": "python",
   "nbconvert_exporter": "python",
   "pygments_lexer": "ipython3",
   "version": "3.12.8"
  }
 },
 "nbformat": 4,
 "nbformat_minor": 2
}
