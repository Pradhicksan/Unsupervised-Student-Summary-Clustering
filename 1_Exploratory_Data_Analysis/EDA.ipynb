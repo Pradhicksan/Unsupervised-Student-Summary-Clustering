{
 "cells": [
  {
   "cell_type": "code",
   "execution_count": 1,
   "metadata": {},
   "outputs": [],
   "source": [
    "# importing modules\n",
    "import pandas as pd\n",
    "import numpy as np\n",
    "import re\n",
    "import matplotlib.pyplot as plt\n",
    "import seaborn as sns"
   ]
  },
  {
   "cell_type": "code",
   "execution_count": 2,
   "metadata": {},
   "outputs": [
    {
     "name": "stdout",
     "output_type": "stream",
     "text": [
      "(668, 2)\n"
     ]
    }
   ],
   "source": [
    "df = pd.read_excel(r\"E:\\Academics\\Semester-6\\DS 203(Prog. for DS)\\Project\\Session-Summary-for-E6-project.xlsx\")\n",
    "df.head()\n",
    "print(df.shape)"
   ]
  },
  {
   "cell_type": "code",
   "execution_count": 3,
   "metadata": {},
   "outputs": [
    {
     "name": "stdout",
     "output_type": "stream",
     "text": [
      "(667, 2)\n"
     ]
    }
   ],
   "source": [
    "# Remove rows where 'Session_Summary' contains 'https'\n",
    "df = df[~df['Session_Summary'].str.contains('https', na=False)]\n",
    "\n",
    "# Display the first few rows of the updated DataFrame\n",
    "df.head()\n",
    "print(df.shape)\n"
   ]
  },
  {
   "cell_type": "code",
   "execution_count": 4,
   "metadata": {},
   "outputs": [],
   "source": [
    "# Function to fix encoding issues\n",
    "def fix_encoding(text):\n",
    "    if isinstance(text, str):\n",
    "        # Replace the problematic sequence with a proper apostrophe\n",
    "        return text.replace('â€™', \"'\")\n",
    "    return text\n",
    "\n",
    "# Apply the fix to the Session_Summary column\n",
    "df['Session_Summary'] = df['Session_Summary'].apply(fix_encoding)\n"
   ]
  },
  {
   "cell_type": "code",
   "execution_count": 5,
   "metadata": {},
   "outputs": [],
   "source": [
    "# Function to remove 'â€' from a string\n",
    "def remove_special_chars(text):\n",
    "    if isinstance(text, str):\n",
    "        return text.replace('â€', '')\n",
    "    return text\n",
    "\n",
    "# Apply the function to 'Session_Summary' column\n",
    "df['Session_Summary'] = df['Session_Summary'].apply(remove_special_chars)"
   ]
  },
  {
   "cell_type": "code",
   "execution_count": 6,
   "metadata": {},
   "outputs": [
    {
     "name": "stdout",
     "output_type": "stream",
     "text": [
      "SerialNo           0\n",
      "Session_Summary    0\n",
      "dtype: int64\n",
      "DataFrame contains null values: False\n"
     ]
    }
   ],
   "source": [
    "# Check for null elements in the DataFrame\n",
    "null_elements = df.isnull().sum()\n",
    "\n",
    "# Print the number of null elements in each column\n",
    "print(null_elements)\n",
    "\n",
    "# Check if there are any null elements in the entire DataFrame\n",
    "has_null = df.isnull().values.any()\n",
    "\n",
    "print(f\"DataFrame contains null values: {has_null}\")"
   ]
  },
  {
   "cell_type": "code",
   "execution_count": 7,
   "metadata": {},
   "outputs": [
    {
     "name": "stdout",
     "output_type": "stream",
     "text": [
      "Number of rows involved in duplication: 2\n",
      "\n",
      "Indices of all rows involved in duplication: [301, 485]\n",
      "\n",
      "Duplicate groups with their indices:\n",
      "\n",
      "Indices: [301, 485]\n",
      "Content: we started by discussing the meaning of statistical significance. we discussed that if our value of ...\n",
      "--------------------------------------------------\n",
      "\n",
      "Rows before removing duplicates: 667\n",
      "Rows after removing duplicates: 666\n"
     ]
    },
    {
     "name": "stderr",
     "output_type": "stream",
     "text": [
      "C:\\Users\\pradh\\AppData\\Local\\Temp\\ipykernel_8664\\2432326974.py:12: DeprecationWarning: DataFrameGroupBy.apply operated on the grouping columns. This behavior is deprecated, and in a future version of pandas the grouping columns will be excluded from the operation. Either pass `include_groups=False` to exclude the groupings or explicitly select the grouping columns after groupby to silence this warning.\n",
      "  duplicate_groups = df[all_duplicates].groupby('Session_Summary').apply(lambda x: list(x.index))\n"
     ]
    }
   ],
   "source": [
    "# Find all duplicates (including first occurrences)\n",
    "all_duplicates = df.duplicated(subset='Session_Summary', keep=False)\n",
    "\n",
    "# Print the number of rows involved in duplication\n",
    "print(f\"Number of rows involved in duplication: {all_duplicates.sum()}\")\n",
    "\n",
    "# Get the indices of duplicate rows\n",
    "duplicate_indices = df[all_duplicates].index.tolist()\n",
    "print(f\"\\nIndices of all rows involved in duplication: {duplicate_indices}\")\n",
    "\n",
    "# Group duplicates by their content\n",
    "duplicate_groups = df[all_duplicates].groupby('Session_Summary').apply(lambda x: list(x.index))\n",
    "print(\"\\nDuplicate groups with their indices:\")\n",
    "for content, indices in duplicate_groups.items():\n",
    "    if len(indices) > 1:  # Only show if there are actual duplicates\n",
    "        print(f\"\\nIndices: {indices}\")\n",
    "        print(f\"Content: {content[:100]}...\" if len(content) > 100 else f\"Content: {content}\")\n",
    "        print(\"-\" * 50)\n",
    "\n",
    "# If you want to remove duplicates:\n",
    "df_no_duplicates = df.drop_duplicates(subset='Session_Summary', keep='first')\n",
    "\n",
    "# Print the number of rows before and after removing duplicates\n",
    "print(f\"\\nRows before removing duplicates: {len(df)}\")\n",
    "print(f\"Rows after removing duplicates: {len(df_no_duplicates)}\")\n"
   ]
  },
  {
   "cell_type": "code",
   "execution_count": 8,
   "metadata": {},
   "outputs": [
    {
     "data": {
      "text/html": [
       "<div>\n",
       "<style scoped>\n",
       "    .dataframe tbody tr th:only-of-type {\n",
       "        vertical-align: middle;\n",
       "    }\n",
       "\n",
       "    .dataframe tbody tr th {\n",
       "        vertical-align: top;\n",
       "    }\n",
       "\n",
       "    .dataframe thead th {\n",
       "        text-align: right;\n",
       "    }\n",
       "</style>\n",
       "<table border=\"1\" class=\"dataframe\">\n",
       "  <thead>\n",
       "    <tr style=\"text-align: right;\">\n",
       "      <th></th>\n",
       "      <th>Session_Summary</th>\n",
       "    </tr>\n",
       "  </thead>\n",
       "  <tbody>\n",
       "    <tr>\n",
       "      <th>0</th>\n",
       "      <td>we started our lecture with a recap of previou...</td>\n",
       "    </tr>\n",
       "    <tr>\n",
       "      <th>1</th>\n",
       "      <td>in this session, we explored various feature e...</td>\n",
       "    </tr>\n",
       "    <tr>\n",
       "      <th>2</th>\n",
       "      <td>population and sample were further discussed u...</td>\n",
       "    </tr>\n",
       "    <tr>\n",
       "      <th>3</th>\n",
       "      <td>we first looked at all the summaries and obser...</td>\n",
       "    </tr>\n",
       "    <tr>\n",
       "      <th>4</th>\n",
       "      <td>midsem metrics for evaluation and also discuss...</td>\n",
       "    </tr>\n",
       "  </tbody>\n",
       "</table>\n",
       "</div>"
      ],
      "text/plain": [
       "                                     Session_Summary\n",
       "0  we started our lecture with a recap of previou...\n",
       "1  in this session, we explored various feature e...\n",
       "2  population and sample were further discussed u...\n",
       "3  we first looked at all the summaries and obser...\n",
       "4  midsem metrics for evaluation and also discuss..."
      ]
     },
     "execution_count": 8,
     "metadata": {},
     "output_type": "execute_result"
    }
   ],
   "source": [
    "df.drop(['SerialNo'], axis= 1, inplace=True)\n",
    "df.head()"
   ]
  },
  {
   "cell_type": "code",
   "execution_count": 9,
   "metadata": {},
   "outputs": [
    {
     "name": "stdout",
     "output_type": "stream",
     "text": [
      "<class 'pandas.core.frame.DataFrame'>\n",
      "Index: 667 entries, 0 to 667\n",
      "Data columns (total 1 columns):\n",
      " #   Column           Non-Null Count  Dtype \n",
      "---  ------           --------------  ----- \n",
      " 0   Session_Summary  667 non-null    object\n",
      "dtypes: object(1)\n",
      "memory usage: 10.4+ KB\n"
     ]
    }
   ],
   "source": [
    "df.info()"
   ]
  },
  {
   "cell_type": "code",
   "execution_count": 10,
   "metadata": {},
   "outputs": [],
   "source": [
    "# Function to clean, tokenize, and remove single-number tokens\n",
    "def clean_and_tokenize(text):\n",
    "    text = re.sub(r'[^\\w\\s]', '', text)  # Remove punctuation\n",
    "    tokens = text.split()  # Tokenize\n",
    "    return [token for token in tokens if not token.isdigit()]  # Remove single-number tokens\n",
    "\n",
    "# Apply to DataFrame\n",
    "df['tokens'] = df['Session_Summary'].apply(clean_and_tokenize)\n"
   ]
  },
  {
   "cell_type": "code",
   "execution_count": 11,
   "metadata": {},
   "outputs": [
    {
     "data": {
      "text/html": [
       "<div>\n",
       "<style scoped>\n",
       "    .dataframe tbody tr th:only-of-type {\n",
       "        vertical-align: middle;\n",
       "    }\n",
       "\n",
       "    .dataframe tbody tr th {\n",
       "        vertical-align: top;\n",
       "    }\n",
       "\n",
       "    .dataframe thead th {\n",
       "        text-align: right;\n",
       "    }\n",
       "</style>\n",
       "<table border=\"1\" class=\"dataframe\">\n",
       "  <thead>\n",
       "    <tr style=\"text-align: right;\">\n",
       "      <th></th>\n",
       "      <th>Session_Summary</th>\n",
       "      <th>tokens</th>\n",
       "      <th>words_count</th>\n",
       "    </tr>\n",
       "  </thead>\n",
       "  <tbody>\n",
       "    <tr>\n",
       "      <th>0</th>\n",
       "      <td>we started our lecture with a recap of previou...</td>\n",
       "      <td>[we, started, our, lecture, with, a, recap, of...</td>\n",
       "      <td>224</td>\n",
       "    </tr>\n",
       "    <tr>\n",
       "      <th>1</th>\n",
       "      <td>in this session, we explored various feature e...</td>\n",
       "      <td>[in, this, session, we, explored, various, fea...</td>\n",
       "      <td>271</td>\n",
       "    </tr>\n",
       "    <tr>\n",
       "      <th>2</th>\n",
       "      <td>population and sample were further discussed u...</td>\n",
       "      <td>[population, and, sample, were, further, discu...</td>\n",
       "      <td>336</td>\n",
       "    </tr>\n",
       "    <tr>\n",
       "      <th>3</th>\n",
       "      <td>we first looked at all the summaries and obser...</td>\n",
       "      <td>[we, first, looked, at, all, the, summaries, a...</td>\n",
       "      <td>219</td>\n",
       "    </tr>\n",
       "    <tr>\n",
       "      <th>4</th>\n",
       "      <td>midsem metrics for evaluation and also discuss...</td>\n",
       "      <td>[midsem, metrics, for, evaluation, and, also, ...</td>\n",
       "      <td>13</td>\n",
       "    </tr>\n",
       "    <tr>\n",
       "      <th>...</th>\n",
       "      <td>...</td>\n",
       "      <td>...</td>\n",
       "      <td>...</td>\n",
       "    </tr>\n",
       "    <tr>\n",
       "      <th>663</th>\n",
       "      <td>in this lecture we have learnt about what is p...</td>\n",
       "      <td>[in, this, lecture, we, have, learnt, about, w...</td>\n",
       "      <td>326</td>\n",
       "    </tr>\n",
       "    <tr>\n",
       "      <th>664</th>\n",
       "      <td>today, we continued our discussion on statisti...</td>\n",
       "      <td>[today, we, continued, our, discussion, on, st...</td>\n",
       "      <td>97</td>\n",
       "    </tr>\n",
       "    <tr>\n",
       "      <th>665</th>\n",
       "      <td>at the beginning, sir explained what are the w...</td>\n",
       "      <td>[at, the, beginning, sir, explained, what, are...</td>\n",
       "      <td>231</td>\n",
       "    </tr>\n",
       "    <tr>\n",
       "      <th>666</th>\n",
       "      <td>we studied about crisp-dm\\n(cross industry sta...</td>\n",
       "      <td>[we, studied, about, crispdm, cross, industry,...</td>\n",
       "      <td>106</td>\n",
       "    </tr>\n",
       "    <tr>\n",
       "      <th>667</th>\n",
       "      <td>in today's class we interpreted p-values and c...</td>\n",
       "      <td>[in, todays, class, we, interpreted, pvalues, ...</td>\n",
       "      <td>147</td>\n",
       "    </tr>\n",
       "  </tbody>\n",
       "</table>\n",
       "<p>667 rows × 3 columns</p>\n",
       "</div>"
      ],
      "text/plain": [
       "                                       Session_Summary  \\\n",
       "0    we started our lecture with a recap of previou...   \n",
       "1    in this session, we explored various feature e...   \n",
       "2    population and sample were further discussed u...   \n",
       "3    we first looked at all the summaries and obser...   \n",
       "4    midsem metrics for evaluation and also discuss...   \n",
       "..                                                 ...   \n",
       "663  in this lecture we have learnt about what is p...   \n",
       "664  today, we continued our discussion on statisti...   \n",
       "665  at the beginning, sir explained what are the w...   \n",
       "666  we studied about crisp-dm\\n(cross industry sta...   \n",
       "667  in today's class we interpreted p-values and c...   \n",
       "\n",
       "                                                tokens  words_count  \n",
       "0    [we, started, our, lecture, with, a, recap, of...          224  \n",
       "1    [in, this, session, we, explored, various, fea...          271  \n",
       "2    [population, and, sample, were, further, discu...          336  \n",
       "3    [we, first, looked, at, all, the, summaries, a...          219  \n",
       "4    [midsem, metrics, for, evaluation, and, also, ...           13  \n",
       "..                                                 ...          ...  \n",
       "663  [in, this, lecture, we, have, learnt, about, w...          326  \n",
       "664  [today, we, continued, our, discussion, on, st...           97  \n",
       "665  [at, the, beginning, sir, explained, what, are...          231  \n",
       "666  [we, studied, about, crispdm, cross, industry,...          106  \n",
       "667  [in, todays, class, we, interpreted, pvalues, ...          147  \n",
       "\n",
       "[667 rows x 3 columns]"
      ]
     },
     "execution_count": 11,
     "metadata": {},
     "output_type": "execute_result"
    }
   ],
   "source": [
    "# Create a new column with the number of tokens (word count)\n",
    "df['words_count'] = df['tokens'].apply(len)\n",
    "\n",
    "df"
   ]
  },
  {
   "cell_type": "code",
   "execution_count": 12,
   "metadata": {},
   "outputs": [
    {
     "data": {
      "text/plain": [
       "count     667.000000\n",
       "mean      206.695652\n",
       "std       144.009213\n",
       "min         4.000000\n",
       "25%       111.000000\n",
       "50%       172.000000\n",
       "75%       262.500000\n",
       "max      1375.000000\n",
       "Name: words_count, dtype: float64"
      ]
     },
     "execution_count": 12,
     "metadata": {},
     "output_type": "execute_result"
    }
   ],
   "source": [
    "df['words_count'].describe()"
   ]
  },
  {
   "cell_type": "code",
   "execution_count": 32,
   "metadata": {},
   "outputs": [
    {
     "data": {
      "image/png": "[encoded data removed]",
      "text/plain": [
       "<Figure size 1000x600 with 1 Axes>"
      ]
     },
     "metadata": {},
     "output_type": "display_data"
    }
   ],
   "source": [
    "import matplotlib.pyplot as plt\n",
    "import seaborn as sns\n",
    "\n",
    "# Set Seaborn style\n",
    "sns.set(style=\"whitegrid\")\n",
    "\n",
    "# Create the plot\n",
    "plt.figure(figsize=(10, 6))\n",
    "sns.histplot(data=df['words_count'], bins=40, kde=True, edgecolor='black', linewidth=1)\n",
    "# Customize labels and title\n",
    "plt.xlabel('Word Count per Summary', fontsize=12)\n",
    "plt.ylabel('Frequency', fontsize=12)\n",
    "plt.title('Distribution of Word Count per Summary', fontsize=14, weight='bold')\n",
    "\n",
    "# Remove top and right spines\n",
    "sns.despine()\n",
    "\n",
    "# Add grid for better readability\n",
    "plt.grid(axis='y', linestyle='--', alpha=0.7)\n",
    "\n",
    "# Tight layout for clean spacing\n",
    "plt.tight_layout()\n",
    "\n",
    "plt.show()\n"
   ]
  },
  {
   "cell_type": "code",
   "execution_count": 14,
   "metadata": {},
   "outputs": [],
   "source": [
    "# Modified function to split text into sentences and exclude short sentences\n",
    "def split_into_sentences(text):\n",
    "    sentences = re.split(r'[.!?]+', text)  # Split at ., !, ?\n",
    "    sentences = [s.strip() for s in sentences if s.strip()]  # Remove empty strings\n",
    "    # Exclude sentences with 1 to 3 words\n",
    "    sentences = [s for s in sentences if len(s.split()) > 3]\n",
    "    return sentences\n",
    "\n",
    "# Apply modified function to create 'sentences' column\n",
    "df['sentences'] = df['Session_Summary'].apply(split_into_sentences)\n",
    "\n",
    "# Create a new column for the sentence count\n",
    "df['sentence_count'] = df['sentences'].apply(len)\n"
   ]
  },
  {
   "cell_type": "code",
   "execution_count": 15,
   "metadata": {},
   "outputs": [
    {
     "data": {
      "text/html": [
       "<div>\n",
       "<style scoped>\n",
       "    .dataframe tbody tr th:only-of-type {\n",
       "        vertical-align: middle;\n",
       "    }\n",
       "\n",
       "    .dataframe tbody tr th {\n",
       "        vertical-align: top;\n",
       "    }\n",
       "\n",
       "    .dataframe thead th {\n",
       "        text-align: right;\n",
       "    }\n",
       "</style>\n",
       "<table border=\"1\" class=\"dataframe\">\n",
       "  <thead>\n",
       "    <tr style=\"text-align: right;\">\n",
       "      <th></th>\n",
       "      <th>Session_Summary</th>\n",
       "      <th>tokens</th>\n",
       "      <th>words_count</th>\n",
       "      <th>sentences</th>\n",
       "      <th>sentence_count</th>\n",
       "      <th>words_per_sentence</th>\n",
       "    </tr>\n",
       "  </thead>\n",
       "  <tbody>\n",
       "    <tr>\n",
       "      <th>0</th>\n",
       "      <td>we started our lecture with a recap of previou...</td>\n",
       "      <td>[we, started, our, lecture, with, a, recap, of...</td>\n",
       "      <td>224</td>\n",
       "      <td>[we started our lecture with a recap of previo...</td>\n",
       "      <td>16</td>\n",
       "      <td>[22, 11, 14, 16, 12, 14, 9, 37, 15, 14, 8, 16,...</td>\n",
       "    </tr>\n",
       "    <tr>\n",
       "      <th>1</th>\n",
       "      <td>in this session, we explored various feature e...</td>\n",
       "      <td>[in, this, session, we, explored, various, fea...</td>\n",
       "      <td>271</td>\n",
       "      <td>[in this session, we explored various feature ...</td>\n",
       "      <td>16</td>\n",
       "      <td>[24, 7, 14, 15, 26, 8, 10, 18, 23, 17, 20, 11,...</td>\n",
       "    </tr>\n",
       "    <tr>\n",
       "      <th>2</th>\n",
       "      <td>population and sample were further discussed u...</td>\n",
       "      <td>[population, and, sample, were, further, discu...</td>\n",
       "      <td>336</td>\n",
       "      <td>[population and sample were further discussed ...</td>\n",
       "      <td>22</td>\n",
       "      <td>[7, 10, 7, 11, 9, 14, 7, 9, 11, 18, 12, 12, 37...</td>\n",
       "    </tr>\n",
       "    <tr>\n",
       "      <th>3</th>\n",
       "      <td>we first looked at all the summaries and obser...</td>\n",
       "      <td>[we, first, looked, at, all, the, summaries, a...</td>\n",
       "      <td>219</td>\n",
       "      <td>[we first looked at all the summaries and obse...</td>\n",
       "      <td>13</td>\n",
       "      <td>[37, 24, 5, 6, 8, 29, 29, 20, 9, 19, 14, 15, 9]</td>\n",
       "    </tr>\n",
       "    <tr>\n",
       "      <th>4</th>\n",
       "      <td>midsem metrics for evaluation and also discuss...</td>\n",
       "      <td>[midsem, metrics, for, evaluation, and, also, ...</td>\n",
       "      <td>13</td>\n",
       "      <td>[midsem metrics for evaluation and also discus...</td>\n",
       "      <td>1</td>\n",
       "      <td>[13]</td>\n",
       "    </tr>\n",
       "  </tbody>\n",
       "</table>\n",
       "</div>"
      ],
      "text/plain": [
       "                                     Session_Summary  \\\n",
       "0  we started our lecture with a recap of previou...   \n",
       "1  in this session, we explored various feature e...   \n",
       "2  population and sample were further discussed u...   \n",
       "3  we first looked at all the summaries and obser...   \n",
       "4  midsem metrics for evaluation and also discuss...   \n",
       "\n",
       "                                              tokens  words_count  \\\n",
       "0  [we, started, our, lecture, with, a, recap, of...          224   \n",
       "1  [in, this, session, we, explored, various, fea...          271   \n",
       "2  [population, and, sample, were, further, discu...          336   \n",
       "3  [we, first, looked, at, all, the, summaries, a...          219   \n",
       "4  [midsem, metrics, for, evaluation, and, also, ...           13   \n",
       "\n",
       "                                           sentences  sentence_count  \\\n",
       "0  [we started our lecture with a recap of previo...              16   \n",
       "1  [in this session, we explored various feature ...              16   \n",
       "2  [population and sample were further discussed ...              22   \n",
       "3  [we first looked at all the summaries and obse...              13   \n",
       "4  [midsem metrics for evaluation and also discus...               1   \n",
       "\n",
       "                                  words_per_sentence  \n",
       "0  [22, 11, 14, 16, 12, 14, 9, 37, 15, 14, 8, 16,...  \n",
       "1  [24, 7, 14, 15, 26, 8, 10, 18, 23, 17, 20, 11,...  \n",
       "2  [7, 10, 7, 11, 9, 14, 7, 9, 11, 18, 12, 12, 37...  \n",
       "3    [37, 24, 5, 6, 8, 29, 29, 20, 9, 19, 14, 15, 9]  \n",
       "4                                               [13]  "
      ]
     },
     "execution_count": 15,
     "metadata": {},
     "output_type": "execute_result"
    }
   ],
   "source": [
    "# Function to count words in each sentence\n",
    "def count_words_in_sentences(sentences):\n",
    "    return [len(sentence.split()) for sentence in sentences]\n",
    "\n",
    "# Apply function to create a new column\n",
    "df['words_per_sentence'] = df['sentences'].apply(count_words_in_sentences)\n",
    "df.head()"
   ]
  },
  {
   "cell_type": "code",
   "execution_count": 16,
   "metadata": {},
   "outputs": [],
   "source": [
    "# Flatten the list of word counts into a single list\n",
    "flattened_list = [word_count for sublist in df['words_per_sentence'] for word_count in sublist]"
   ]
  },
  {
   "cell_type": "code",
   "execution_count": 17,
   "metadata": {},
   "outputs": [
    {
     "data": {
      "text/plain": [
       "count    7975.000000\n",
       "mean       17.577179\n",
       "std        10.519681\n",
       "min         4.000000\n",
       "25%        11.000000\n",
       "50%        16.000000\n",
       "75%        22.000000\n",
       "max       154.000000\n",
       "dtype: float64"
      ]
     },
     "execution_count": 17,
     "metadata": {},
     "output_type": "execute_result"
    }
   ],
   "source": [
    "# Alternative: Create a Series and use describe()\n",
    "word_counts_series = pd.Series(flattened_list)\n",
    "word_counts_series.describe()\n"
   ]
  },
  {
   "cell_type": "code",
   "execution_count": 18,
   "metadata": {},
   "outputs": [
    {
     "data": {
      "image/png": "[encoded data removed]",
      "text/plain": [
       "<Figure size 1000x600 with 1 Axes>"
      ]
     },
     "metadata": {},
     "output_type": "display_data"
    }
   ],
   "source": [
    "plt.figure(figsize=(10, 6))\n",
    "sns.histplot(data=word_counts_series, bins=50, kde=True, edgecolor='black', linewidth=1)\n",
    "\n",
    "plt.xlabel('Word Count per Sentence')\n",
    "plt.ylabel('Frequency')\n",
    "plt.title('Distribution of Word Counts per Sentence')\n",
    "\n",
    "plt.tight_layout()\n",
    "plt.show()"
   ]
  },
  {
   "cell_type": "code",
   "execution_count": 31,
   "metadata": {},
   "outputs": [
    {
     "data": {
      "image/png": "[encoded data removed]",
      "text/plain": [
       "<Figure size 800x500 with 1 Axes>"
      ]
     },
     "metadata": {},
     "output_type": "display_data"
    }
   ],
   "source": [
    "# Plot histogram\n",
    "plt.figure(figsize=(8, 5))\n",
    "sns.histplot(data=df['sentence_count'], bins=40, kde=True, edgecolor='black', linewidth=1)\n",
    "\n",
    "# Labels and title\n",
    "plt.xlabel('sentence Count')\n",
    "plt.ylabel('Frequency')\n",
    "plt.title('Distribution of sentence Count per summary')\n",
    "\n",
    "# Show the plot\n",
    "plt.show()"
   ]
  },
  {
   "cell_type": "code",
   "execution_count": 20,
   "metadata": {},
   "outputs": [
    {
     "data": {
      "text/plain": [
       "count    667.000000\n",
       "mean      11.956522\n",
       "std        8.895434\n",
       "min        1.000000\n",
       "25%        6.000000\n",
       "50%       10.000000\n",
       "75%       15.000000\n",
       "max       84.000000\n",
       "Name: sentence_count, dtype: float64"
      ]
     },
     "execution_count": 20,
     "metadata": {},
     "output_type": "execute_result"
    }
   ],
   "source": [
    "df['sentence_count'].describe()"
   ]
  },
  {
   "cell_type": "code",
   "execution_count": 21,
   "metadata": {},
   "outputs": [
    {
     "data": {
      "text/html": [
       "<div>\n",
       "<style scoped>\n",
       "    .dataframe tbody tr th:only-of-type {\n",
       "        vertical-align: middle;\n",
       "    }\n",
       "\n",
       "    .dataframe tbody tr th {\n",
       "        vertical-align: top;\n",
       "    }\n",
       "\n",
       "    .dataframe thead th {\n",
       "        text-align: right;\n",
       "    }\n",
       "</style>\n",
       "<table border=\"1\" class=\"dataframe\">\n",
       "  <thead>\n",
       "    <tr style=\"text-align: right;\">\n",
       "      <th></th>\n",
       "      <th>Session_Summary</th>\n",
       "      <th>tokens</th>\n",
       "      <th>words_count</th>\n",
       "      <th>sentences</th>\n",
       "      <th>sentence_count</th>\n",
       "      <th>words_per_sentence</th>\n",
       "    </tr>\n",
       "  </thead>\n",
       "  <tbody>\n",
       "    <tr>\n",
       "      <th>4</th>\n",
       "      <td>midsem metrics for evaluation and also discuss...</td>\n",
       "      <td>[midsem, metrics, for, evaluation, and, also, ...</td>\n",
       "      <td>13</td>\n",
       "      <td>[midsem metrics for evaluation and also discus...</td>\n",
       "      <td>1</td>\n",
       "      <td>[13]</td>\n",
       "    </tr>\n",
       "    <tr>\n",
       "      <th>23</th>\n",
       "      <td>we learnt about parameter / statistics\\nalso a...</td>\n",
       "      <td>[we, learnt, about, parameter, statistics, als...</td>\n",
       "      <td>62</td>\n",
       "      <td>[we learnt about parameter / statistics\\nalso ...</td>\n",
       "      <td>1</td>\n",
       "      <td>[63]</td>\n",
       "    </tr>\n",
       "    <tr>\n",
       "      <th>24</th>\n",
       "      <td>started with confidence interval. learnt more ...</td>\n",
       "      <td>[started, with, confidence, interval, learnt, ...</td>\n",
       "      <td>12</td>\n",
       "      <td>[started with confidence interval, learnt more...</td>\n",
       "      <td>2</td>\n",
       "      <td>[4, 8]</td>\n",
       "    </tr>\n",
       "    <tr>\n",
       "      <th>26</th>\n",
       "      <td>we started the class with a thorough discussio...</td>\n",
       "      <td>[we, started, the, class, with, a, thorough, d...</td>\n",
       "      <td>66</td>\n",
       "      <td>[we started the class with a thorough discussi...</td>\n",
       "      <td>3</td>\n",
       "      <td>[23, 26, 20]</td>\n",
       "    </tr>\n",
       "    <tr>\n",
       "      <th>28</th>\n",
       "      <td>we began by using pivot tables in excel to com...</td>\n",
       "      <td>[we, began, by, using, pivot, tables, in, exce...</td>\n",
       "      <td>96</td>\n",
       "      <td>[we began by using pivot tables in excel to co...</td>\n",
       "      <td>2</td>\n",
       "      <td>[29, 68]</td>\n",
       "    </tr>\n",
       "  </tbody>\n",
       "</table>\n",
       "</div>"
      ],
      "text/plain": [
       "                                      Session_Summary  \\\n",
       "4   midsem metrics for evaluation and also discuss...   \n",
       "23  we learnt about parameter / statistics\\nalso a...   \n",
       "24  started with confidence interval. learnt more ...   \n",
       "26  we started the class with a thorough discussio...   \n",
       "28  we began by using pivot tables in excel to com...   \n",
       "\n",
       "                                               tokens  words_count  \\\n",
       "4   [midsem, metrics, for, evaluation, and, also, ...           13   \n",
       "23  [we, learnt, about, parameter, statistics, als...           62   \n",
       "24  [started, with, confidence, interval, learnt, ...           12   \n",
       "26  [we, started, the, class, with, a, thorough, d...           66   \n",
       "28  [we, began, by, using, pivot, tables, in, exce...           96   \n",
       "\n",
       "                                            sentences  sentence_count  \\\n",
       "4   [midsem metrics for evaluation and also discus...               1   \n",
       "23  [we learnt about parameter / statistics\\nalso ...               1   \n",
       "24  [started with confidence interval, learnt more...               2   \n",
       "26  [we started the class with a thorough discussi...               3   \n",
       "28  [we began by using pivot tables in excel to co...               2   \n",
       "\n",
       "   words_per_sentence  \n",
       "4                [13]  \n",
       "23               [63]  \n",
       "24             [4, 8]  \n",
       "26       [23, 26, 20]  \n",
       "28           [29, 68]  "
      ]
     },
     "execution_count": 21,
     "metadata": {},
     "output_type": "execute_result"
    }
   ],
   "source": [
    "df[df['sentence_count']<=3].head()"
   ]
  },
  {
   "cell_type": "code",
   "execution_count": 22,
   "metadata": {},
   "outputs": [
    {
     "data": {
      "text/plain": [
       "(45, 6)"
      ]
     },
     "execution_count": 22,
     "metadata": {},
     "output_type": "execute_result"
    }
   ],
   "source": [
    "df[df['sentence_count']<=3].shape"
   ]
  },
  {
   "cell_type": "code",
   "execution_count": 23,
   "metadata": {},
   "outputs": [
    {
     "data": {
      "text/html": [
       "<div>\n",
       "<style scoped>\n",
       "    .dataframe tbody tr th:only-of-type {\n",
       "        vertical-align: middle;\n",
       "    }\n",
       "\n",
       "    .dataframe tbody tr th {\n",
       "        vertical-align: top;\n",
       "    }\n",
       "\n",
       "    .dataframe thead th {\n",
       "        text-align: right;\n",
       "    }\n",
       "</style>\n",
       "<table border=\"1\" class=\"dataframe\">\n",
       "  <thead>\n",
       "    <tr style=\"text-align: right;\">\n",
       "      <th></th>\n",
       "      <th>Session_Summary</th>\n",
       "      <th>tokens</th>\n",
       "      <th>words_count</th>\n",
       "      <th>sentences</th>\n",
       "      <th>sentence_count</th>\n",
       "      <th>words_per_sentence</th>\n",
       "    </tr>\n",
       "  </thead>\n",
       "  <tbody>\n",
       "    <tr>\n",
       "      <th>0</th>\n",
       "      <td>we started our lecture with a recap of previou...</td>\n",
       "      <td>[we, started, our, lecture, with, a, recap, of...</td>\n",
       "      <td>224</td>\n",
       "      <td>[we started our lecture with a recap of previo...</td>\n",
       "      <td>16</td>\n",
       "      <td>[22, 11, 14, 16, 12, 14, 9, 37, 15, 14, 8, 16,...</td>\n",
       "    </tr>\n",
       "    <tr>\n",
       "      <th>1</th>\n",
       "      <td>in this session, we explored various feature e...</td>\n",
       "      <td>[in, this, session, we, explored, various, fea...</td>\n",
       "      <td>271</td>\n",
       "      <td>[in this session, we explored various feature ...</td>\n",
       "      <td>16</td>\n",
       "      <td>[24, 7, 14, 15, 26, 8, 10, 18, 23, 17, 20, 11,...</td>\n",
       "    </tr>\n",
       "    <tr>\n",
       "      <th>2</th>\n",
       "      <td>population and sample were further discussed u...</td>\n",
       "      <td>[population, and, sample, were, further, discu...</td>\n",
       "      <td>336</td>\n",
       "      <td>[population and sample were further discussed ...</td>\n",
       "      <td>22</td>\n",
       "      <td>[7, 10, 7, 11, 9, 14, 7, 9, 11, 18, 12, 12, 37...</td>\n",
       "    </tr>\n",
       "    <tr>\n",
       "      <th>3</th>\n",
       "      <td>we first looked at all the summaries and obser...</td>\n",
       "      <td>[we, first, looked, at, all, the, summaries, a...</td>\n",
       "      <td>219</td>\n",
       "      <td>[we first looked at all the summaries and obse...</td>\n",
       "      <td>13</td>\n",
       "      <td>[37, 24, 5, 6, 8, 29, 29, 20, 9, 19, 14, 15, 9]</td>\n",
       "    </tr>\n",
       "    <tr>\n",
       "      <th>4</th>\n",
       "      <td>midsem metrics for evaluation and also discuss...</td>\n",
       "      <td>[midsem, metrics, for, evaluation, and, also, ...</td>\n",
       "      <td>13</td>\n",
       "      <td>[midsem metrics for evaluation and also discus...</td>\n",
       "      <td>1</td>\n",
       "      <td>[13]</td>\n",
       "    </tr>\n",
       "  </tbody>\n",
       "</table>\n",
       "</div>"
      ],
      "text/plain": [
       "                                     Session_Summary  \\\n",
       "0  we started our lecture with a recap of previou...   \n",
       "1  in this session, we explored various feature e...   \n",
       "2  population and sample were further discussed u...   \n",
       "3  we first looked at all the summaries and obser...   \n",
       "4  midsem metrics for evaluation and also discuss...   \n",
       "\n",
       "                                              tokens  words_count  \\\n",
       "0  [we, started, our, lecture, with, a, recap, of...          224   \n",
       "1  [in, this, session, we, explored, various, fea...          271   \n",
       "2  [population, and, sample, were, further, discu...          336   \n",
       "3  [we, first, looked, at, all, the, summaries, a...          219   \n",
       "4  [midsem, metrics, for, evaluation, and, also, ...           13   \n",
       "\n",
       "                                           sentences  sentence_count  \\\n",
       "0  [we started our lecture with a recap of previo...              16   \n",
       "1  [in this session, we explored various feature ...              16   \n",
       "2  [population and sample were further discussed ...              22   \n",
       "3  [we first looked at all the summaries and obse...              13   \n",
       "4  [midsem metrics for evaluation and also discus...               1   \n",
       "\n",
       "                                  words_per_sentence  \n",
       "0  [22, 11, 14, 16, 12, 14, 9, 37, 15, 14, 8, 16,...  \n",
       "1  [24, 7, 14, 15, 26, 8, 10, 18, 23, 17, 20, 11,...  \n",
       "2  [7, 10, 7, 11, 9, 14, 7, 9, 11, 18, 12, 12, 37...  \n",
       "3    [37, 24, 5, 6, 8, 29, 29, 20, 9, 19, 14, 15, 9]  \n",
       "4                                               [13]  "
      ]
     },
     "execution_count": 23,
     "metadata": {},
     "output_type": "execute_result"
    }
   ],
   "source": [
    "df.head()"
   ]
  },
  {
   "cell_type": "markdown",
   "metadata": {},
   "source": [
    "### Analysing the tokenization"
   ]
  },
  {
   "cell_type": "code",
   "execution_count": 24,
   "metadata": {},
   "outputs": [
    {
     "data": {
      "text/plain": [
       "['we',\n",
       " 'started',\n",
       " 'our',\n",
       " 'lecture',\n",
       " 'with',\n",
       " 'a',\n",
       " 'recap',\n",
       " 'of',\n",
       " 'previous',\n",
       " 'lecture',\n",
       " 'particularly',\n",
       " 'about',\n",
       " 'the',\n",
       " 'difference',\n",
       " 'between',\n",
       " 'statistically',\n",
       " 'similar',\n",
       " 'values',\n",
       " 'and',\n",
       " 'statistically',\n",
       " 'significant',\n",
       " 'values',\n",
       " 'we',\n",
       " 'then',\n",
       " 'started',\n",
       " 'a',\n",
       " 'new',\n",
       " 'topic',\n",
       " 'called',\n",
       " 'as',\n",
       " 'multiple',\n",
       " 'linear',\n",
       " 'regression',\n",
       " 'as',\n",
       " 'the',\n",
       " 'name',\n",
       " 'suggests',\n",
       " 'it',\n",
       " 'is',\n",
       " 'a',\n",
       " 'linear',\n",
       " 'regression',\n",
       " 'but',\n",
       " 'dependent',\n",
       " 'upon',\n",
       " 'multiple',\n",
       " 'features',\n",
       " 'we',\n",
       " 'looked',\n",
       " 'how',\n",
       " 'things',\n",
       " 'like',\n",
       " 'sales',\n",
       " 'depend',\n",
       " 'on',\n",
       " 'multiple',\n",
       " 'factors',\n",
       " 'like',\n",
       " 'age',\n",
       " 'earning',\n",
       " 'family',\n",
       " 'size',\n",
       " 'etc',\n",
       " 'the',\n",
       " 'things',\n",
       " 'on',\n",
       " 'which',\n",
       " 'our',\n",
       " 'y',\n",
       " 'is',\n",
       " 'dependent',\n",
       " 'are',\n",
       " 'known',\n",
       " 'as',\n",
       " 'features',\n",
       " 'our',\n",
       " 'goal',\n",
       " 'is',\n",
       " 'to',\n",
       " 'represent',\n",
       " 'y',\n",
       " 'as',\n",
       " 'a',\n",
       " 'linear',\n",
       " 'combination',\n",
       " 'of',\n",
       " 'x1',\n",
       " 'x2',\n",
       " 'x3',\n",
       " 'xn',\n",
       " 'suppose',\n",
       " 'y',\n",
       " 'b0',\n",
       " 'b1x1',\n",
       " 'b2x2',\n",
       " 'our',\n",
       " 'objective',\n",
       " 'is',\n",
       " 'to',\n",
       " 'find',\n",
       " 'the',\n",
       " 'values',\n",
       " 'of',\n",
       " 'b0',\n",
       " 'b1',\n",
       " 'b2',\n",
       " 'which',\n",
       " 'we',\n",
       " 'do',\n",
       " 'by',\n",
       " 'a',\n",
       " 'method',\n",
       " 'called',\n",
       " 'as',\n",
       " 'gradient',\n",
       " 'descent',\n",
       " 'which',\n",
       " 'is',\n",
       " 'a',\n",
       " 'numerical',\n",
       " 'method',\n",
       " 'very',\n",
       " 'similar',\n",
       " 'to',\n",
       " 'newton',\n",
       " 'raphson',\n",
       " 'method',\n",
       " 'but',\n",
       " 'used',\n",
       " 'for',\n",
       " 'n',\n",
       " 'dimensions',\n",
       " 'prof',\n",
       " 'then',\n",
       " 'showed',\n",
       " 'an',\n",
       " 'illustration',\n",
       " 'on',\n",
       " 'excel',\n",
       " 'where',\n",
       " 'the',\n",
       " 'y',\n",
       " 'was',\n",
       " 'dependent',\n",
       " 'on',\n",
       " 'features',\n",
       " 'we',\n",
       " 'performed',\n",
       " 'mlr',\n",
       " 'and',\n",
       " 'had',\n",
       " 'a',\n",
       " 'look',\n",
       " 'at',\n",
       " 'the',\n",
       " 'pvalues',\n",
       " 'of',\n",
       " 'the',\n",
       " 'calculated',\n",
       " 'coefficients',\n",
       " 'every',\n",
       " 'coefficient',\n",
       " 'had',\n",
       " 'a',\n",
       " 'pvalue',\n",
       " 'greater',\n",
       " 'than',\n",
       " 'except',\n",
       " 'the',\n",
       " 'intercept',\n",
       " 'which',\n",
       " 'shows',\n",
       " 'that',\n",
       " 'the',\n",
       " 'probability',\n",
       " 'of',\n",
       " 'them',\n",
       " 'being',\n",
       " 'correct',\n",
       " 'is',\n",
       " 'very',\n",
       " 'low',\n",
       " 'we',\n",
       " 'then',\n",
       " 'started',\n",
       " 'dropping',\n",
       " 'the',\n",
       " 'features',\n",
       " 'one',\n",
       " 'by',\n",
       " 'one',\n",
       " 'which',\n",
       " 'had',\n",
       " 'the',\n",
       " 'highest',\n",
       " 'pvalue',\n",
       " 'there',\n",
       " 'also',\n",
       " 'is',\n",
       " 'a',\n",
       " 'metric',\n",
       " 'known',\n",
       " 'as',\n",
       " 'f',\n",
       " 'value',\n",
       " 'where',\n",
       " 'f',\n",
       " 'msrmse',\n",
       " 'higher',\n",
       " 'f',\n",
       " 'corresponds',\n",
       " 'to',\n",
       " 'better',\n",
       " 'model',\n",
       " 'as',\n",
       " 'we',\n",
       " 'dropped',\n",
       " 'the',\n",
       " 'features',\n",
       " 'f',\n",
       " 'value',\n",
       " 'started',\n",
       " 'to',\n",
       " 'increase']"
      ]
     },
     "execution_count": 24,
     "metadata": {},
     "output_type": "execute_result"
    }
   ],
   "source": [
    "df['tokens'].iloc[0]"
   ]
  },
  {
   "cell_type": "code",
   "execution_count": 25,
   "metadata": {},
   "outputs": [
    {
     "name": "stdout",
     "output_type": "stream",
     "text": [
      "['Session_Summary', 'tokens', 'words_count', 'sentences', 'sentence_count', 'words_per_sentence']\n"
     ]
    }
   ],
   "source": [
    "print(df.columns.tolist())"
   ]
  },
  {
   "cell_type": "code",
   "execution_count": 26,
   "metadata": {},
   "outputs": [],
   "source": [
    "# exporting csv file for vectorization\n",
    "df_export = df[['Session_Summary','tokens','words_count', 'sentence_count']]\n",
    "\n",
    "df_export.to_csv('processed_df.csv', index=False)\n"
   ]
  }
 ],
 "metadata": {
  "kernelspec": {
   "display_name": "DS203_venv",
   "language": "python",
   "name": "python3"
  },
  "language_info": {
   "codemirror_mode": {
    "name": "ipython",
    "version": 3
   },
   "file_extension": ".py",
   "mimetype": "text/x-python",
   "name": "python",
   "nbconvert_exporter": "python",
   "pygments_lexer": "ipython3",
   "version": "3.12.8"
  }
 },
 "nbformat": 4,
 "nbformat_minor": 2
}
